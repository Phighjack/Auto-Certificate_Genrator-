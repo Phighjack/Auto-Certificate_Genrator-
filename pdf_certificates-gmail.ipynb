{
 "cells": [
  {
   "cell_type": "code",
   "execution_count": null,
   "id": "isolated-search",
   "metadata": {},
   "outputs": [],
   "source": []
  },
  {
   "cell_type": "code",
   "execution_count": 1,
   "id": "following-order",
   "metadata": {},
   "outputs": [],
   "source": [
    "from reportlab.lib.pagesizes import A4\n",
    "from reportlab.lib.pagesizes import landscape\n",
    "from reportlab.pdfgen import canvas\n",
    "from reportlab.platypus import Image\n",
    "from datetime import datetime\n",
    "import pandas as pd\n",
    "import smtplib \n",
    "from email.mime.multipart import MIMEMultipart \n",
    "from email.mime.text import MIMEText \n",
    "from email.mime.base import MIMEBase \n",
    "from email import encoders "
   ]
  },
  {
   "cell_type": "code",
   "execution_count": 2,
   "id": "lightweight-deployment",
   "metadata": {},
   "outputs": [],
   "source": [
    "def sendmail(name, toaddr, attach_file):\n",
    "    fromaddr = \"prathameshrepal4657@gmail.com\"\n",
    "    apppassword = \"xrqrbdfqwbyzvwqs\" \n",
    "    \n",
    "    msg = MIMEMultipart() \n",
    "  \n",
    "    # storing the senders email address   \n",
    "    msg['From'] = fromaddr \n",
    "  \n",
    "    # storing the receivers email address  \n",
    "    msg['To'] = toaddr \n",
    "  \n",
    "    # storing the subject  \n",
    "    msg['Subject'] = \"Certificate from DKTE Collage\"\n",
    "  \n",
    "    # string to store the body of the mail \n",
    "    body = \"Dear \"+name+\", <br><br>From DKTE. <br><br> Best Regards <br><br>Student Branch <br><br>For Event\"\n",
    "  \n",
    "    # attach the body with the msg instance \n",
    "    msg.attach(MIMEText(body, 'html')) \n",
    "  \n",
    "    # open the file to be sent  \n",
    "    filename = attach_file.split('//')[1]\n",
    "    attachment = open(attach_file, \"rb\") \n",
    "    \n",
    "  \n",
    "    # instance of MIMEBase and named as p \n",
    "    p = MIMEBase('application', 'octet-stream') \n",
    "  \n",
    "    # To change the payload into encoded form \n",
    "    p.set_payload((attachment).read()) \n",
    "  \n",
    "    # encode into base64 \n",
    "    encoders.encode_base64(p) \n",
    "   \n",
    "    p.add_header('Content-Disposition', \"attachment; filename= %s\" % filename) \n",
    "  \n",
    "    # attach the instance 'p' to instance 'msg' \n",
    "    msg.attach(p) \n",
    "    \n",
    "    s = smtplib.SMTP('smtp.gmail.com', 587) \n",
    "  \n",
    "    # start TLS for security \n",
    "    s.starttls() \n",
    "  \n",
    "    # Authentication \n",
    "    s.login(fromaddr, apppassword) \n",
    "  \n",
    "    # Converts the Multipart msg into a string \n",
    "    text = msg.as_string() \n",
    "  \n",
    "    # sending the mail \n",
    "    s.sendmail(fromaddr, toaddr, text) \n",
    "  \n",
    "    # terminating the session \n",
    "    s.quit() \n",
    "    print('\\nEmail Sent : '+toaddr)\n",
    "    attachment.close()"
   ]
  },
  {
   "cell_type": "code",
   "execution_count": 3,
   "id": "changing-greece",
   "metadata": {},
   "outputs": [],
   "source": [
    "def make_certificate(name, email):\n",
    "    file_name = name.replace(\" \",\"_\")\n",
    "    file_name = 'pdf//'+file_name+'.pdf'\n",
    "    img = 'cert_template.jpg'\n",
    "    c = canvas.Canvas(file_name, pagesize=landscape(A4))\n",
    "    c.drawImage(img, 5, 2, width=842, height=585)\n",
    "    c.setFont('Times-Italic', 30, leading=None)\n",
    "    c.drawCentredString(415, 305, name)\n",
    "    c.save()\n",
    "    print('\\n\\nPDF Generated : '+name)\n",
    "    sendmail(name, email, file_name)\n",
    "    "
   ]
  },
  {
   "cell_type": "code",
   "execution_count": 4,
   "id": "qualified-native",
   "metadata": {},
   "outputs": [
    {
     "name": "stdout",
     "output_type": "stream",
     "text": [
      "\n",
      "\n",
      "PDF Generated : Prathamesh Repal\n",
      "\n",
      "Email Sent : prathameshrepal4657@gmail.com\n",
      "\n",
      "\n",
      "PDF Generated : Manoj Kumbhar\n",
      "\n",
      "Email Sent : manojstarmay@gmail.com\n",
      "\n",
      "\n",
      "PDF Generated : Rushikesh Khot\n",
      "\n",
      "Email Sent : rushikeshkhot2002@gmail.com\n",
      "PDF Generation of Certificates Completed and mail sent.\n"
     ]
    }
   ],
   "source": [
    "df = pd.read_excel('data.xlsx', sheet_name='papers')\n",
    "for i in df.index:\n",
    "    make_certificate(df['Name'][i],df['Email'][i])\n",
    "print('PDF Generation of Certificates Completed and mail sent.')"
   ]
  },
  {
   "cell_type": "code",
   "execution_count": null,
   "id": "banner-shelter",
   "metadata": {},
   "outputs": [],
   "source": []
  }
 ],
 "metadata": {
  "kernelspec": {
   "display_name": "Python 3.9.4 32-bit",
   "language": "python",
   "name": "python3"
  },
  "language_info": {
   "codemirror_mode": {
    "name": "ipython",
    "version": 3
   },
   "file_extension": ".py",
   "mimetype": "text/x-python",
   "name": "python",
   "nbconvert_exporter": "python",
   "pygments_lexer": "ipython3",
   "version": "3.9.4"
  },
  "vscode": {
   "interpreter": {
    "hash": "7989dea91ccefdfe8285fa2a7ade7747cd7a0aae02ea9913a93f6f05d5e304d8"
   }
  }
 },
 "nbformat": 4,
 "nbformat_minor": 5
}
